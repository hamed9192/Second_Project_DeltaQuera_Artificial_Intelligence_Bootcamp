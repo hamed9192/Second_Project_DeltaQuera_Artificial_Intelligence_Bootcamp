{
 "cells": [
  {
   "cell_type": "code",
   "execution_count": 2,
   "id": "7bd555b8",
   "metadata": {},
   "outputs": [
    {
     "name": "stderr",
     "output_type": "stream",
     "text": [
      "analyzing: 100%|██████████| 2200/2200 [00:24<00:00, 89.27it/s]"
     ]
    },
    {
     "name": "stdout",
     "output_type": "stream",
     "text": [
      "'q1_submission.csv' done\n"
     ]
    },
    {
     "name": "stderr",
     "output_type": "stream",
     "text": [
      "\n"
     ]
    }
   ],
   "source": [
    "#libraries\n",
    "import torch\n",
    "from torchvision import models, transforms\n",
    "from PIL import Image\n",
    "import pandas as pd\n",
    "import os\n",
    "from tqdm import tqdm\n",
    "\n",
    "#useing gpu \n",
    "device = torch.device(\"cuda\" if torch.cuda.is_available() else \"cpu\")\n",
    "image_folder = \"test\" \n",
    "\n",
    "#giving class names to the model\n",
    "class_names = ['baked_potato','baklava','caesar_salad','cheese_sandwich','cheesecake',\n",
    "               'chicken','chicken_curry','chocolate_cake','donuts','eggs','falafel','fish',\n",
    "               'french_fries','hamburger','hot_dog','ice_cream','lasagna','omelette',\n",
    "               'pizza','spaghetti','steak','sushi']\n",
    "\n",
    "#loading the model\n",
    "model = models.resnet50(weights=None)\n",
    "model.fc = torch.nn.Linear(model.fc.in_features, len(class_names))\n",
    "model.load_state_dict(torch.load(\"finetuned_resnet50_state.pth\", map_location=device))\n",
    "model.to(device)\n",
    "model.eval()\n",
    "\n",
    "#preparation\n",
    "transform = transforms.Compose([\n",
    "    transforms.Resize((224, 224)),\n",
    "    transforms.ToTensor(),\n",
    "    transforms.Normalize(\n",
    "        mean=[0.485, 0.456, 0.406],\n",
    "        std=[0.229, 0.224, 0.225]\n",
    "    )\n",
    "])\n",
    "\n",
    "#Loading test files\n",
    "image_files = [f for f in os.listdir(image_folder)]\n",
    "\n",
    "results = []\n",
    "\n",
    "#prediction\n",
    "with torch.no_grad():\n",
    "    for filename in tqdm(image_files, desc=\"analyzing\"):\n",
    "        path = os.path.join(image_folder, filename)\n",
    "        try:\n",
    "            image = Image.open(path).convert('RGB')\n",
    "            img_tensor = transform(image).unsqueeze(0).to(device)\n",
    "\n",
    "            output = model(img_tensor)\n",
    "            pred = output.argmax(1).item()\n",
    "            predicted_class = class_names[pred]\n",
    "\n",
    "            results.append({\n",
    "                \"name\": filename,\n",
    "                \"predicted\": predicted_class\n",
    "            })\n",
    "        except Exception as e:\n",
    "            print(f\"error at {filename}: {e}\")\n",
    "\n",
    "\n",
    "df = pd.DataFrame(results)\n",
    "df.to_csv(\"q1_submission.csv\", index=False)\n",
    "\n",
    "print(\"'q1_submission.csv' done\")\n"
   ]
  }
 ],
 "metadata": {
  "kernelspec": {
   "display_name": ".venv",
   "language": "python",
   "name": "python3"
  },
  "language_info": {
   "codemirror_mode": {
    "name": "ipython",
    "version": 3
   },
   "file_extension": ".py",
   "mimetype": "text/x-python",
   "name": "python",
   "nbconvert_exporter": "python",
   "pygments_lexer": "ipython3",
   "version": "3.10.11"
  }
 },
 "nbformat": 4,
 "nbformat_minor": 5
}

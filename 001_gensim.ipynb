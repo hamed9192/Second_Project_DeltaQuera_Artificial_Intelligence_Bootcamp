{
  "cells": [
    {
      "cell_type": "code",
      "execution_count": null,
      "metadata": {
        "id": "ajfO_diu8Y1B"
      },
      "outputs": [],
      "source": [
        "# !pip install gensim\n",
        "# !pip install pyspellchecker"
      ]
    },
    {
      "cell_type": "markdown",
      "metadata": {},
      "source": [
        "## Importing Required Libraries"
      ]
    },
    {
      "cell_type": "code",
      "execution_count": 2,
      "metadata": {
        "id": "2JTJGK_K8gMn"
      },
      "outputs": [],
      "source": [
        "import pandas as pd\n",
        "import gensim.downloader as api\n",
        "import re\n",
        "from spellchecker import SpellChecker\n",
        "import matplotlib.pyplot as plt\n"
      ]
    },
    {
      "cell_type": "markdown",
      "metadata": {},
      "source": [
        "## Loading Dataset"
      ]
    },
    {
      "cell_type": "code",
      "execution_count": 3,
      "metadata": {
        "colab": {
          "base_uri": "https://localhost:8080/"
        },
        "id": "AfQMzXxBEVFe",
        "outputId": "184b8916-764e-49fd-9b39-ea2e4a23feec"
      },
      "outputs": [
        {
          "name": "stderr",
          "output_type": "stream",
          "text": [
            "C:\\Users\\DATIS STAR\\AppData\\Local\\Temp\\ipykernel_14132\\692743926.py:1: DtypeWarning: Columns (1) have mixed types. Specify dtype option on import or set low_memory=False.\n",
            "  data = pd.read_csv('../train_data.csv')\n"
          ]
        }
      ],
      "source": [
        "# Reading data from CSV file\n",
        "data = pd.read_csv('../train_data.csv')"
      ]
    },
    {
      "cell_type": "markdown",
      "metadata": {},
      "source": [
        "## Exploring the Dataset"
      ]
    },
    {
      "cell_type": "code",
      "execution_count": 4,
      "metadata": {
        "colab": {
          "base_uri": "https://localhost:8080/",
          "height": 397
        },
        "id": "RoxFG_NBEW_2",
        "outputId": "a2229657-dd5c-4bc0-f943-468c91e521f1"
      },
      "outputs": [
        {
          "data": {
            "text/html": [
              "<div>\n",
              "<style scoped>\n",
              "    .dataframe tbody tr th:only-of-type {\n",
              "        vertical-align: middle;\n",
              "    }\n",
              "\n",
              "    .dataframe tbody tr th {\n",
              "        vertical-align: top;\n",
              "    }\n",
              "\n",
              "    .dataframe thead th {\n",
              "        text-align: right;\n",
              "    }\n",
              "</style>\n",
              "<table border=\"1\" class=\"dataframe\">\n",
              "  <thead>\n",
              "    <tr style=\"text-align: right;\">\n",
              "      <th></th>\n",
              "      <th>overall</th>\n",
              "      <th>vote</th>\n",
              "      <th>verified</th>\n",
              "      <th>reviewTime</th>\n",
              "      <th>reviewerID</th>\n",
              "      <th>asin</th>\n",
              "      <th>style</th>\n",
              "      <th>reviewerName</th>\n",
              "      <th>reviewText</th>\n",
              "      <th>summary</th>\n",
              "      <th>unixReviewTime</th>\n",
              "    </tr>\n",
              "  </thead>\n",
              "  <tbody>\n",
              "    <tr>\n",
              "      <th>0</th>\n",
              "      <td>2</td>\n",
              "      <td>NaN</td>\n",
              "      <td>False</td>\n",
              "      <td>2016-11-11</td>\n",
              "      <td>A2OSUEZJIN7BI</td>\n",
              "      <td>0511189877</td>\n",
              "      <td>NaN</td>\n",
              "      <td>Chris</td>\n",
              "      <td>I have an older URC-WR7 remote and thought thi...</td>\n",
              "      <td>Cannot Learn</td>\n",
              "      <td>1478822400</td>\n",
              "    </tr>\n",
              "    <tr>\n",
              "      <th>1</th>\n",
              "      <td>5</td>\n",
              "      <td>NaN</td>\n",
              "      <td>True</td>\n",
              "      <td>2016-06-06</td>\n",
              "      <td>A2NETQRG6JHIG7</td>\n",
              "      <td>0511189877</td>\n",
              "      <td>NaN</td>\n",
              "      <td>Qrysta White</td>\n",
              "      <td>First time I've EVER had a remote that needed ...</td>\n",
              "      <td>zero programming needed!  Miracle!?</td>\n",
              "      <td>1465171200</td>\n",
              "    </tr>\n",
              "    <tr>\n",
              "      <th>2</th>\n",
              "      <td>4</td>\n",
              "      <td>NaN</td>\n",
              "      <td>True</td>\n",
              "      <td>2016-03-10</td>\n",
              "      <td>A12JHGROAX49G7</td>\n",
              "      <td>0511189877</td>\n",
              "      <td>NaN</td>\n",
              "      <td>Linwood</td>\n",
              "      <td>Got them and only 2 of them worked. company ca...</td>\n",
              "      <td>Works Good and programs easy.</td>\n",
              "      <td>1457568000</td>\n",
              "    </tr>\n",
              "    <tr>\n",
              "      <th>3</th>\n",
              "      <td>5</td>\n",
              "      <td>NaN</td>\n",
              "      <td>True</td>\n",
              "      <td>2016-01-14</td>\n",
              "      <td>A1KV65E2TMMG6F</td>\n",
              "      <td>0511189877</td>\n",
              "      <td>NaN</td>\n",
              "      <td>Dane Williams</td>\n",
              "      <td>I got tired of the remote being on the wrong s...</td>\n",
              "      <td>Same as TWC remote</td>\n",
              "      <td>1452729600</td>\n",
              "    </tr>\n",
              "    <tr>\n",
              "      <th>4</th>\n",
              "      <td>5</td>\n",
              "      <td>NaN</td>\n",
              "      <td>True</td>\n",
              "      <td>2016-10-20</td>\n",
              "      <td>A280POPEWI0NSA</td>\n",
              "      <td>0594459451</td>\n",
              "      <td>NaN</td>\n",
              "      <td>Kristina H.</td>\n",
              "      <td>After purchasing cheap cords from another webs...</td>\n",
              "      <td>Good Quality Cord</td>\n",
              "      <td>1476921600</td>\n",
              "    </tr>\n",
              "  </tbody>\n",
              "</table>\n",
              "</div>"
            ],
            "text/plain": [
              "   overall vote  verified  reviewTime      reviewerID        asin style  \\\n",
              "0        2  NaN     False  2016-11-11   A2OSUEZJIN7BI  0511189877   NaN   \n",
              "1        5  NaN      True  2016-06-06  A2NETQRG6JHIG7  0511189877   NaN   \n",
              "2        4  NaN      True  2016-03-10  A12JHGROAX49G7  0511189877   NaN   \n",
              "3        5  NaN      True  2016-01-14  A1KV65E2TMMG6F  0511189877   NaN   \n",
              "4        5  NaN      True  2016-10-20  A280POPEWI0NSA  0594459451   NaN   \n",
              "\n",
              "    reviewerName                                         reviewText  \\\n",
              "0          Chris  I have an older URC-WR7 remote and thought thi...   \n",
              "1   Qrysta White  First time I've EVER had a remote that needed ...   \n",
              "2        Linwood  Got them and only 2 of them worked. company ca...   \n",
              "3  Dane Williams  I got tired of the remote being on the wrong s...   \n",
              "4    Kristina H.  After purchasing cheap cords from another webs...   \n",
              "\n",
              "                               summary  unixReviewTime  \n",
              "0                         Cannot Learn      1478822400  \n",
              "1  zero programming needed!  Miracle!?      1465171200  \n",
              "2        Works Good and programs easy.      1457568000  \n",
              "3                   Same as TWC remote      1452729600  \n",
              "4                    Good Quality Cord      1476921600  "
            ]
          },
          "execution_count": 4,
          "metadata": {},
          "output_type": "execute_result"
        }
      ],
      "source": [
        "# Displaying the first few rows of the dataset\n",
        "data.head()"
      ]
    },
    {
      "cell_type": "code",
      "execution_count": 5,
      "metadata": {
        "colab": {
          "base_uri": "https://localhost:8080/",
          "height": 483
        },
        "id": "BBFuqdl8Et0W",
        "outputId": "aa62a399-77b8-443f-ae28-6e55fa325ee7"
      },
      "outputs": [
        {
          "data": {
            "text/html": [
              "<div>\n",
              "<style scoped>\n",
              "    .dataframe tbody tr th:only-of-type {\n",
              "        vertical-align: middle;\n",
              "    }\n",
              "\n",
              "    .dataframe tbody tr th {\n",
              "        vertical-align: top;\n",
              "    }\n",
              "\n",
              "    .dataframe thead th {\n",
              "        text-align: right;\n",
              "    }\n",
              "</style>\n",
              "<table border=\"1\" class=\"dataframe\">\n",
              "  <thead>\n",
              "    <tr style=\"text-align: right;\">\n",
              "      <th></th>\n",
              "      <th>overall</th>\n",
              "      <th>vote</th>\n",
              "      <th>verified</th>\n",
              "      <th>reviewTime</th>\n",
              "      <th>reviewerID</th>\n",
              "      <th>asin</th>\n",
              "      <th>style</th>\n",
              "      <th>reviewerName</th>\n",
              "      <th>reviewText</th>\n",
              "      <th>summary</th>\n",
              "      <th>unixReviewTime</th>\n",
              "    </tr>\n",
              "  </thead>\n",
              "  <tbody>\n",
              "    <tr>\n",
              "      <th>count</th>\n",
              "      <td>838944.000000</td>\n",
              "      <td>191468.0</td>\n",
              "      <td>838944</td>\n",
              "      <td>838944</td>\n",
              "      <td>838944</td>\n",
              "      <td>838944</td>\n",
              "      <td>490613</td>\n",
              "      <td>838717</td>\n",
              "      <td>838944</td>\n",
              "      <td>838868</td>\n",
              "      <td>8.389440e+05</td>\n",
              "    </tr>\n",
              "    <tr>\n",
              "      <th>unique</th>\n",
              "      <td>NaN</td>\n",
              "      <td>861.0</td>\n",
              "      <td>2</td>\n",
              "      <td>1007</td>\n",
              "      <td>321135</td>\n",
              "      <td>90715</td>\n",
              "      <td>40887</td>\n",
              "      <td>234102</td>\n",
              "      <td>807611</td>\n",
              "      <td>696896</td>\n",
              "      <td>NaN</td>\n",
              "    </tr>\n",
              "    <tr>\n",
              "      <th>top</th>\n",
              "      <td>NaN</td>\n",
              "      <td>2.0</td>\n",
              "      <td>True</td>\n",
              "      <td>2016-01-04</td>\n",
              "      <td>A680RUE1FDO8B</td>\n",
              "      <td>B010OYASRG</td>\n",
              "      <td>{'Color:': ' Black'}</td>\n",
              "      <td>Amazon Customer</td>\n",
              "      <td>Love these!!!. Got  one for front &amp; back of ho...</td>\n",
              "      <td>Five Stars</td>\n",
              "      <td>NaN</td>\n",
              "    </tr>\n",
              "    <tr>\n",
              "      <th>freq</th>\n",
              "      <td>NaN</td>\n",
              "      <td>37154.0</td>\n",
              "      <td>720389</td>\n",
              "      <td>1976</td>\n",
              "      <td>158</td>\n",
              "      <td>1853</td>\n",
              "      <td>43589</td>\n",
              "      <td>24896</td>\n",
              "      <td>43</td>\n",
              "      <td>957</td>\n",
              "      <td>NaN</td>\n",
              "    </tr>\n",
              "    <tr>\n",
              "      <th>mean</th>\n",
              "      <td>4.021317</td>\n",
              "      <td>NaN</td>\n",
              "      <td>NaN</td>\n",
              "      <td>NaN</td>\n",
              "      <td>NaN</td>\n",
              "      <td>NaN</td>\n",
              "      <td>NaN</td>\n",
              "      <td>NaN</td>\n",
              "      <td>NaN</td>\n",
              "      <td>NaN</td>\n",
              "      <td>1.483167e+09</td>\n",
              "    </tr>\n",
              "    <tr>\n",
              "      <th>std</th>\n",
              "      <td>1.344223</td>\n",
              "      <td>NaN</td>\n",
              "      <td>NaN</td>\n",
              "      <td>NaN</td>\n",
              "      <td>NaN</td>\n",
              "      <td>NaN</td>\n",
              "      <td>NaN</td>\n",
              "      <td>NaN</td>\n",
              "      <td>NaN</td>\n",
              "      <td>NaN</td>\n",
              "      <td>2.229270e+07</td>\n",
              "    </tr>\n",
              "    <tr>\n",
              "      <th>min</th>\n",
              "      <td>1.000000</td>\n",
              "      <td>NaN</td>\n",
              "      <td>NaN</td>\n",
              "      <td>NaN</td>\n",
              "      <td>NaN</td>\n",
              "      <td>NaN</td>\n",
              "      <td>NaN</td>\n",
              "      <td>NaN</td>\n",
              "      <td>NaN</td>\n",
              "      <td>NaN</td>\n",
              "      <td>1.451606e+09</td>\n",
              "    </tr>\n",
              "    <tr>\n",
              "      <th>25%</th>\n",
              "      <td>3.000000</td>\n",
              "      <td>NaN</td>\n",
              "      <td>NaN</td>\n",
              "      <td>NaN</td>\n",
              "      <td>NaN</td>\n",
              "      <td>NaN</td>\n",
              "      <td>NaN</td>\n",
              "      <td>NaN</td>\n",
              "      <td>NaN</td>\n",
              "      <td>NaN</td>\n",
              "      <td>1.464653e+09</td>\n",
              "    </tr>\n",
              "    <tr>\n",
              "      <th>50%</th>\n",
              "      <td>5.000000</td>\n",
              "      <td>NaN</td>\n",
              "      <td>NaN</td>\n",
              "      <td>NaN</td>\n",
              "      <td>NaN</td>\n",
              "      <td>NaN</td>\n",
              "      <td>NaN</td>\n",
              "      <td>NaN</td>\n",
              "      <td>NaN</td>\n",
              "      <td>NaN</td>\n",
              "      <td>1.479254e+09</td>\n",
              "    </tr>\n",
              "    <tr>\n",
              "      <th>75%</th>\n",
              "      <td>5.000000</td>\n",
              "      <td>NaN</td>\n",
              "      <td>NaN</td>\n",
              "      <td>NaN</td>\n",
              "      <td>NaN</td>\n",
              "      <td>NaN</td>\n",
              "      <td>NaN</td>\n",
              "      <td>NaN</td>\n",
              "      <td>NaN</td>\n",
              "      <td>NaN</td>\n",
              "      <td>1.499472e+09</td>\n",
              "    </tr>\n",
              "    <tr>\n",
              "      <th>max</th>\n",
              "      <td>5.000000</td>\n",
              "      <td>NaN</td>\n",
              "      <td>NaN</td>\n",
              "      <td>NaN</td>\n",
              "      <td>NaN</td>\n",
              "      <td>NaN</td>\n",
              "      <td>NaN</td>\n",
              "      <td>NaN</td>\n",
              "      <td>NaN</td>\n",
              "      <td>NaN</td>\n",
              "      <td>1.538525e+09</td>\n",
              "    </tr>\n",
              "  </tbody>\n",
              "</table>\n",
              "</div>"
            ],
            "text/plain": [
              "              overall      vote verified  reviewTime     reviewerID  \\\n",
              "count   838944.000000  191468.0   838944      838944         838944   \n",
              "unique            NaN     861.0        2        1007         321135   \n",
              "top               NaN       2.0     True  2016-01-04  A680RUE1FDO8B   \n",
              "freq              NaN   37154.0   720389        1976            158   \n",
              "mean         4.021317       NaN      NaN         NaN            NaN   \n",
              "std          1.344223       NaN      NaN         NaN            NaN   \n",
              "min          1.000000       NaN      NaN         NaN            NaN   \n",
              "25%          3.000000       NaN      NaN         NaN            NaN   \n",
              "50%          5.000000       NaN      NaN         NaN            NaN   \n",
              "75%          5.000000       NaN      NaN         NaN            NaN   \n",
              "max          5.000000       NaN      NaN         NaN            NaN   \n",
              "\n",
              "              asin                 style     reviewerName  \\\n",
              "count       838944                490613           838717   \n",
              "unique       90715                 40887           234102   \n",
              "top     B010OYASRG  {'Color:': ' Black'}  Amazon Customer   \n",
              "freq          1853                 43589            24896   \n",
              "mean           NaN                   NaN              NaN   \n",
              "std            NaN                   NaN              NaN   \n",
              "min            NaN                   NaN              NaN   \n",
              "25%            NaN                   NaN              NaN   \n",
              "50%            NaN                   NaN              NaN   \n",
              "75%            NaN                   NaN              NaN   \n",
              "max            NaN                   NaN              NaN   \n",
              "\n",
              "                                               reviewText     summary  \\\n",
              "count                                              838944      838868   \n",
              "unique                                             807611      696896   \n",
              "top     Love these!!!. Got  one for front & back of ho...  Five Stars   \n",
              "freq                                                   43         957   \n",
              "mean                                                  NaN         NaN   \n",
              "std                                                   NaN         NaN   \n",
              "min                                                   NaN         NaN   \n",
              "25%                                                   NaN         NaN   \n",
              "50%                                                   NaN         NaN   \n",
              "75%                                                   NaN         NaN   \n",
              "max                                                   NaN         NaN   \n",
              "\n",
              "        unixReviewTime  \n",
              "count     8.389440e+05  \n",
              "unique             NaN  \n",
              "top                NaN  \n",
              "freq               NaN  \n",
              "mean      1.483167e+09  \n",
              "std       2.229270e+07  \n",
              "min       1.451606e+09  \n",
              "25%       1.464653e+09  \n",
              "50%       1.479254e+09  \n",
              "75%       1.499472e+09  \n",
              "max       1.538525e+09  "
            ]
          },
          "execution_count": 5,
          "metadata": {},
          "output_type": "execute_result"
        }
      ],
      "source": [
        "# Getting statistical summary of the dataset\n",
        "data.describe(include='all')"
      ]
    },
    {
      "cell_type": "code",
      "execution_count": 6,
      "metadata": {
        "colab": {
          "base_uri": "https://localhost:8080/"
        },
        "id": "aREMW5VzEvtP",
        "outputId": "cccdc7bd-6857-44cc-83e4-0b8976414300"
      },
      "outputs": [
        {
          "name": "stdout",
          "output_type": "stream",
          "text": [
            "<class 'pandas.core.frame.DataFrame'>\n",
            "RangeIndex: 838944 entries, 0 to 838943\n",
            "Data columns (total 11 columns):\n",
            " #   Column          Non-Null Count   Dtype \n",
            "---  ------          --------------   ----- \n",
            " 0   overall         838944 non-null  int64 \n",
            " 1   vote            191468 non-null  object\n",
            " 2   verified        838944 non-null  bool  \n",
            " 3   reviewTime      838944 non-null  object\n",
            " 4   reviewerID      838944 non-null  object\n",
            " 5   asin            838944 non-null  object\n",
            " 6   style           490613 non-null  object\n",
            " 7   reviewerName    838717 non-null  object\n",
            " 8   reviewText      838944 non-null  object\n",
            " 9   summary         838868 non-null  object\n",
            " 10  unixReviewTime  838944 non-null  int64 \n",
            "dtypes: bool(1), int64(2), object(8)\n",
            "memory usage: 64.8+ MB\n"
          ]
        }
      ],
      "source": [
        "data.info()"
      ]
    },
    {
      "cell_type": "code",
      "execution_count": 7,
      "metadata": {
        "colab": {
          "base_uri": "https://localhost:8080/",
          "height": 805
        },
        "id": "3RKb14brE85q",
        "outputId": "6dd3e276-3e92-4835-f65b-585d91758070"
      },
      "outputs": [],
      "source": [
        "# pd.set_option('display.max_colwidth', None)\n",
        "# data[['reviewText', 'summary']]"
      ]
    },
    {
      "cell_type": "code",
      "execution_count": 8,
      "metadata": {
        "id": "GUPojFL7E-xs"
      },
      "outputs": [],
      "source": [
        "data = data.dropna(subset=['reviewText','summary'])"
      ]
    },
    {
      "cell_type": "code",
      "execution_count": 9,
      "metadata": {
        "colab": {
          "base_uri": "https://localhost:8080/"
        },
        "id": "DWosofpFFApe",
        "outputId": "ec7ec413-b003-4372-f2e4-55e9d0028925"
      },
      "outputs": [
        {
          "name": "stdout",
          "output_type": "stream",
          "text": [
            "<class 'pandas.core.frame.DataFrame'>\n",
            "Index: 838868 entries, 0 to 838943\n",
            "Data columns (total 11 columns):\n",
            " #   Column          Non-Null Count   Dtype \n",
            "---  ------          --------------   ----- \n",
            " 0   overall         838868 non-null  int64 \n",
            " 1   vote            191449 non-null  object\n",
            " 2   verified        838868 non-null  bool  \n",
            " 3   reviewTime      838868 non-null  object\n",
            " 4   reviewerID      838868 non-null  object\n",
            " 5   asin            838868 non-null  object\n",
            " 6   style           490574 non-null  object\n",
            " 7   reviewerName    838641 non-null  object\n",
            " 8   reviewText      838868 non-null  object\n",
            " 9   summary         838868 non-null  object\n",
            " 10  unixReviewTime  838868 non-null  int64 \n",
            "dtypes: bool(1), int64(2), object(8)\n",
            "memory usage: 71.2+ MB\n"
          ]
        }
      ],
      "source": [
        "data.info()"
      ]
    },
    {
      "cell_type": "markdown",
      "metadata": {},
      "source": [
        "## Model Training and Processing"
      ]
    },
    {
      "cell_type": "code",
      "execution_count": 10,
      "metadata": {
        "colab": {
          "base_uri": "https://localhost:8080/"
        },
        "id": "9JhuMbZjFCWs",
        "outputId": "995bbda5-e4b6-4413-db64-faa5487f18de"
      },
      "outputs": [
        {
          "name": "stdout",
          "output_type": "stream",
          "text": [
            "[('guarantees', 0.822723925113678), ('guaranteed', 0.7438113689422607), ('guaranteeing', 0.7005587816238403), ('assure', 0.5853263735771179), ('assurances', 0.5550788044929504), ('ensure', 0.5258521437644958), ('Guarantee', 0.5235120058059692), ('assurance', 0.5162608027458191), ('insure', 0.5105894804000854), ('Disclaimer_Past_performance', 0.5068185329437256)]\n"
          ]
        }
      ],
      "source": [
        "model = api.load(\"word2vec-google-news-300\")\n",
        "\n",
        "print(model.most_similar('guarantee', topn=10))\n"
      ]
    },
    {
      "cell_type": "code",
      "execution_count": 11,
      "metadata": {
        "colab": {
          "base_uri": "https://localhost:8080/"
        },
        "id": "A8eS0BA5FyYa",
        "outputId": "146b8d41-af3c-4c6a-fc0a-88e55b81bd50"
      },
      "outputs": [
        {
          "name": "stdout",
          "output_type": "stream",
          "text": [
            "like 'guarantee': [('guarantees', 0.822723925113678), ('guaranteed', 0.7438113689422607), ('guaranteeing', 0.7005587816238403), ('assure', 0.5853263735771179), ('assurances', 0.5550788044929504), ('ensure', 0.5258521437644958), ('Guarantee', 0.5235120058059692), ('assurance', 0.5162608027458191), ('insure', 0.5105894804000854), ('Disclaimer_Past_performance', 0.5068185329437256)]\n",
            "like 'warranty': [('warranties', 0.8235853910446167), ('warrantee', 0.781966507434845), ('Warranty', 0.7335840463638306), ('lifetime_warranty', 0.697948157787323), ('Limited_Warranty', 0.6898940205574036), ('extended_warranties', 0.6476331353187561), ('warrantees', 0.6356005072593689), ('warrenty', 0.6332387924194336), ('five-year/###_,###_mile', 0.6254701018333435), ('Lifetime_Warranty', 0.6205177903175354)]\n"
          ]
        }
      ],
      "source": [
        "guarantee_similar_words = model.most_similar(\"guarantee\", topn=10)\n",
        "warranty_similar_words = model.most_similar(\"warranty\", topn=10)\n",
        "\n",
        "print(\"like 'guarantee':\", guarantee_similar_words)\n",
        "print(\"like 'warranty':\", warranty_similar_words)\n"
      ]
    },
    {
      "cell_type": "code",
      "execution_count": 12,
      "metadata": {
        "colab": {
          "base_uri": "https://localhost:8080/"
        },
        "id": "miENC117Ftsc",
        "outputId": "7e712af5-3f9c-4726-f44d-5bc64454c0ea"
      },
      "outputs": [
        {
          "data": {
            "text/plain": [
              "['guarantee',\n",
              " 'warranty',\n",
              " 'guarantees',\n",
              " 'guaranteed',\n",
              " 'guaranteeing',\n",
              " 'assure',\n",
              " 'assurances',\n",
              " 'ensure',\n",
              " 'Guarantee',\n",
              " 'assurance',\n",
              " 'insure',\n",
              " 'Disclaimer_Past_performance',\n",
              " 'warranties',\n",
              " 'warrantee',\n",
              " 'Warranty',\n",
              " 'lifetime_warranty',\n",
              " 'Limited_Warranty',\n",
              " 'extended_warranties',\n",
              " 'warrantees',\n",
              " 'warrenty',\n",
              " 'five-year/###_,###_mile',\n",
              " 'Lifetime_Warranty']"
            ]
          },
          "execution_count": 12,
          "metadata": {},
          "output_type": "execute_result"
        }
      ],
      "source": [
        "# guarantee and warranty similar words\n",
        "keywords = [\"guarantee\", \"warranty\"]\n",
        "keywords += [word for word, _ in guarantee_similar_words]\n",
        "keywords += [word for word, _ in warranty_similar_words]\n",
        "keywords"
      ]
    },
    {
      "cell_type": "code",
      "execution_count": 13,
      "metadata": {
        "id": "F4Cusd7iCmtL"
      },
      "outputs": [],
      "source": [
        "# delete extra symbols and spaces and enters(\\n)\n",
        "def clean_text(text):\n",
        "    text = text.lower()\n",
        "    text = re.sub(r'\\s+', ' ', text)\n",
        "    text = re.sub(r'[^\\w\\s]', '', text)\n",
        "    return text"
      ]
    },
    {
      "cell_type": "code",
      "execution_count": 14,
      "metadata": {
        "id": "MuQx8uk_Cqz4"
      },
      "outputs": [],
      "source": [
        "data['cleaned_review'] = data['reviewText'].apply(clean_text)"
      ]
    },
    {
      "cell_type": "code",
      "execution_count": 15,
      "metadata": {},
      "outputs": [],
      "source": [
        "data['cleaned_summary'] = data['summary'].apply(clean_text)"
      ]
    },
    {
      "cell_type": "code",
      "execution_count": 16,
      "metadata": {
        "colab": {
          "base_uri": "https://localhost:8080/"
        },
        "id": "rTeqEbjbH768",
        "outputId": "00bd57f4-4cfa-4c9f-ab99-25691ea97d32"
      },
      "outputs": [
        {
          "name": "stdout",
          "output_type": "stream",
          "text": [
            "<class 'pandas.core.frame.DataFrame'>\n",
            "Index: 838868 entries, 0 to 838943\n",
            "Data columns (total 13 columns):\n",
            " #   Column           Non-Null Count   Dtype \n",
            "---  ------           --------------   ----- \n",
            " 0   overall          838868 non-null  int64 \n",
            " 1   vote             191449 non-null  object\n",
            " 2   verified         838868 non-null  bool  \n",
            " 3   reviewTime       838868 non-null  object\n",
            " 4   reviewerID       838868 non-null  object\n",
            " 5   asin             838868 non-null  object\n",
            " 6   style            490574 non-null  object\n",
            " 7   reviewerName     838641 non-null  object\n",
            " 8   reviewText       838868 non-null  object\n",
            " 9   summary          838868 non-null  object\n",
            " 10  unixReviewTime   838868 non-null  int64 \n",
            " 11  cleaned_review   838868 non-null  object\n",
            " 12  cleaned_summary  838868 non-null  object\n",
            "dtypes: bool(1), int64(2), object(10)\n",
            "memory usage: 84.0+ MB\n"
          ]
        }
      ],
      "source": [
        "data.info()"
      ]
    },
    {
      "cell_type": "code",
      "execution_count": 17,
      "metadata": {
        "id": "Aqgx0Pz7bSkI"
      },
      "outputs": [],
      "source": [
        "# find keywords in reviews\n",
        "filtered_reviews = data[data['cleaned_review'].str.contains('|'.join(keywords), case=False, na=False)]"
      ]
    },
    {
      "cell_type": "code",
      "execution_count": 18,
      "metadata": {
        "colab": {
          "base_uri": "https://localhost:8080/"
        },
        "id": "hCTx9OFKcLk1",
        "outputId": "8af14560-0bcc-488c-f4c0-024dcc9802f2"
      },
      "outputs": [
        {
          "name": "stdout",
          "output_type": "stream",
          "text": [
            "<class 'pandas.core.frame.DataFrame'>\n",
            "Index: 23962 entries, 155 to 838901\n",
            "Data columns (total 13 columns):\n",
            " #   Column           Non-Null Count  Dtype \n",
            "---  ------           --------------  ----- \n",
            " 0   overall          23962 non-null  int64 \n",
            " 1   vote             8290 non-null   object\n",
            " 2   verified         23962 non-null  bool  \n",
            " 3   reviewTime       23962 non-null  object\n",
            " 4   reviewerID       23962 non-null  object\n",
            " 5   asin             23962 non-null  object\n",
            " 6   style            13978 non-null  object\n",
            " 7   reviewerName     23956 non-null  object\n",
            " 8   reviewText       23962 non-null  object\n",
            " 9   summary          23962 non-null  object\n",
            " 10  unixReviewTime   23962 non-null  int64 \n",
            " 11  cleaned_review   23962 non-null  object\n",
            " 12  cleaned_summary  23962 non-null  object\n",
            "dtypes: bool(1), int64(2), object(10)\n",
            "memory usage: 2.4+ MB\n"
          ]
        }
      ],
      "source": [
        "filtered_reviews.info()"
      ]
    },
    {
      "cell_type": "code",
      "execution_count": 19,
      "metadata": {},
      "outputs": [],
      "source": [
        "# find keywords in summaries\n",
        "filtered_summaries = data[data['summary'].str.contains('|'.join(keywords), case=False, na=False)]"
      ]
    },
    {
      "cell_type": "code",
      "execution_count": 20,
      "metadata": {},
      "outputs": [
        {
          "name": "stdout",
          "output_type": "stream",
          "text": [
            "<class 'pandas.core.frame.DataFrame'>\n",
            "Index: 2145 entries, 253 to 837637\n",
            "Data columns (total 13 columns):\n",
            " #   Column           Non-Null Count  Dtype \n",
            "---  ------           --------------  ----- \n",
            " 0   overall          2145 non-null   int64 \n",
            " 1   vote             716 non-null    object\n",
            " 2   verified         2145 non-null   bool  \n",
            " 3   reviewTime       2145 non-null   object\n",
            " 4   reviewerID       2145 non-null   object\n",
            " 5   asin             2145 non-null   object\n",
            " 6   style            1289 non-null   object\n",
            " 7   reviewerName     2144 non-null   object\n",
            " 8   reviewText       2145 non-null   object\n",
            " 9   summary          2145 non-null   object\n",
            " 10  unixReviewTime   2145 non-null   int64 \n",
            " 11  cleaned_review   2145 non-null   object\n",
            " 12  cleaned_summary  2145 non-null   object\n",
            "dtypes: bool(1), int64(2), object(10)\n",
            "memory usage: 219.9+ KB\n"
          ]
        }
      ],
      "source": [
        "filtered_summaries.info()"
      ]
    },
    {
      "cell_type": "code",
      "execution_count": 21,
      "metadata": {},
      "outputs": [],
      "source": [
        "# concat and delete duplicates\n",
        "filtered = pd.concat([filtered_reviews, filtered_summaries], ignore_index=True)\n",
        "filtered = filtered.drop_duplicates()"
      ]
    },
    {
      "cell_type": "code",
      "execution_count": 22,
      "metadata": {},
      "outputs": [
        {
          "name": "stdout",
          "output_type": "stream",
          "text": [
            "<class 'pandas.core.frame.DataFrame'>\n",
            "Index: 24146 entries, 0 to 26100\n",
            "Data columns (total 13 columns):\n",
            " #   Column           Non-Null Count  Dtype \n",
            "---  ------           --------------  ----- \n",
            " 0   overall          24146 non-null  int64 \n",
            " 1   vote             8357 non-null   object\n",
            " 2   verified         24146 non-null  bool  \n",
            " 3   reviewTime       24146 non-null  object\n",
            " 4   reviewerID       24146 non-null  object\n",
            " 5   asin             24146 non-null  object\n",
            " 6   style            14073 non-null  object\n",
            " 7   reviewerName     24140 non-null  object\n",
            " 8   reviewText       24146 non-null  object\n",
            " 9   summary          24146 non-null  object\n",
            " 10  unixReviewTime   24146 non-null  int64 \n",
            " 11  cleaned_review   24146 non-null  object\n",
            " 12  cleaned_summary  24146 non-null  object\n",
            "dtypes: bool(1), int64(2), object(10)\n",
            "memory usage: 2.4+ MB\n"
          ]
        }
      ],
      "source": [
        "filtered.info()"
      ]
    },
    {
      "cell_type": "code",
      "execution_count": 23,
      "metadata": {
        "colab": {
          "base_uri": "https://localhost:8080/"
        },
        "id": "NVaIDWDFeQ7n",
        "outputId": "3dc48eb1-e759-40c3-d4f8-9a49ce57fda9"
      },
      "outputs": [
        {
          "data": {
            "text/plain": [
              "3.425122173444877"
            ]
          },
          "execution_count": 23,
          "metadata": {},
          "output_type": "execute_result"
        }
      ],
      "source": [
        "# average of  overal scores\n",
        "average = filtered['overall'].mean()\n",
        "average"
      ]
    },
    {
      "cell_type": "code",
      "execution_count": 24,
      "metadata": {
        "colab": {
          "base_uri": "https://localhost:8080/",
          "height": 472
        },
        "id": "263USP80eZSv",
        "outputId": "6f9a0505-c4fb-4941-c411-f453a068c9d0"
      },
      "outputs": [
        {
          "data": {
            "image/png": "[encoded data removed]",
            "text/plain": [
              "<Figure size 640x480 with 1 Axes>"
            ]
          },
          "metadata": {},
          "output_type": "display_data"
        }
      ],
      "source": [
        "# plot overal range\n",
        "plt.hist(filtered['overall'], bins=5, edgecolor='black')\n",
        "plt.title(\"Distribution of Ratings for Products with Guarantee or Warranty\")\n",
        "plt.xlabel(\"Rating\")\n",
        "plt.ylabel(\"Number of Reviews\")\n",
        "plt.grid(True)\n",
        "plt.show()"
      ]
    },
    {
      "cell_type": "markdown",
      "metadata": {},
      "source": [
        "### make two dataframe from main data"
      ]
    },
    {
      "cell_type": "code",
      "execution_count": 25,
      "metadata": {},
      "outputs": [],
      "source": [
        "# dataframe without guarantee and warranty keywords\n",
        "df_result = pd.concat([filtered, data]).drop_duplicates(keep=False)"
      ]
    },
    {
      "cell_type": "code",
      "execution_count": 26,
      "metadata": {},
      "outputs": [
        {
          "name": "stdout",
          "output_type": "stream",
          "text": [
            "<class 'pandas.core.frame.DataFrame'>\n",
            "Index: 798346 entries, 0 to 838943\n",
            "Data columns (total 13 columns):\n",
            " #   Column           Non-Null Count   Dtype \n",
            "---  ------           --------------   ----- \n",
            " 0   overall          798346 non-null  int64 \n",
            " 1   vote             180414 non-null  object\n",
            " 2   verified         798346 non-null  bool  \n",
            " 3   reviewTime       798346 non-null  object\n",
            " 4   reviewerID       798346 non-null  object\n",
            " 5   asin             798346 non-null  object\n",
            " 6   style            465912 non-null  object\n",
            " 7   reviewerName     798131 non-null  object\n",
            " 8   reviewText       798346 non-null  object\n",
            " 9   summary          798346 non-null  object\n",
            " 10  unixReviewTime   798346 non-null  int64 \n",
            " 11  cleaned_review   798346 non-null  object\n",
            " 12  cleaned_summary  798346 non-null  object\n",
            "dtypes: bool(1), int64(2), object(10)\n",
            "memory usage: 79.9+ MB\n"
          ]
        }
      ],
      "source": [
        "df_result.info()"
      ]
    },
    {
      "cell_type": "code",
      "execution_count": 27,
      "metadata": {},
      "outputs": [],
      "source": [
        "df_result = df_result[['overall', 'cleaned_review', 'cleaned_summary']]"
      ]
    },
    {
      "cell_type": "code",
      "execution_count": 28,
      "metadata": {},
      "outputs": [],
      "source": [
        "df_result.to_csv('../no_keywords_filtered.csv',index=False)"
      ]
    },
    {
      "cell_type": "code",
      "execution_count": 29,
      "metadata": {},
      "outputs": [],
      "source": [
        "# dataframe with guarantee and warranty keywords\n",
        "df_filtered = filtered[['overall', 'cleaned_review', 'cleaned_summary']]"
      ]
    },
    {
      "cell_type": "code",
      "execution_count": 30,
      "metadata": {},
      "outputs": [],
      "source": [
        "df_filtered.to_csv('../with_keywords.csv',index=False)"
      ]
    }
  ],
  "metadata": {
    "colab": {
      "provenance": []
    },
    "kernelspec": {
      "display_name": "Python 3.11.3 ('venv': venv)",
      "language": "python",
      "name": "python3"
    },
    "language_info": {
      "codemirror_mode": {
        "name": "ipython",
        "version": 3
      },
      "file_extension": ".py",
      "mimetype": "text/x-python",
      "name": "python",
      "nbconvert_exporter": "python",
      "pygments_lexer": "ipython3",
      "version": "3.11.3"
    },
    "vscode": {
      "interpreter": {
        "hash": "2127e7ed953e72fcd0c52b61544715f1cb994261dad5c6758c387808da5f4c89"
      }
    }
  },
  "nbformat": 4,
  "nbformat_minor": 0
}

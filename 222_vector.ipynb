{
  "cells": [
    {
      "cell_type": "code",
      "execution_count": 1,
      "metadata": {
        "colab": {
          "base_uri": "https://localhost:8080/"
        },
        "id": "ajfO_diu8Y1B",
        "outputId": "ec5ed2f8-cd93-4cdd-f562-7ba55e4f41bf"
      },
      "outputs": [],
      "source": [
        "# !pip install sentence-transformers"
      ]
    },
    {
      "cell_type": "markdown",
      "metadata": {},
      "source": [
        "##  Importing Libraries"
      ]
    },
    {
      "cell_type": "code",
      "execution_count": 41,
      "metadata": {
        "id": "2JTJGK_K8gMn"
      },
      "outputs": [],
      "source": [
        "import pandas as pd\n",
        "from sentence_transformers import SentenceTransformer, util\n",
        "import matplotlib.pyplot as plt"
      ]
    },
    {
      "cell_type": "markdown",
      "metadata": {},
      "source": [
        "## Reading Data"
      ]
    },
    {
      "cell_type": "code",
      "execution_count": 55,
      "metadata": {
        "colab": {
          "base_uri": "https://localhost:8080/"
        },
        "id": "AfQMzXxBEVFe",
        "outputId": "2228c4b8-bde3-4308-e753-b3faad327025"
      },
      "outputs": [],
      "source": [
        "data_no_keywords = pd.read_csv('../no_keywords_filtered.csv')\n",
        "data_with_keywords = pd.read_csv('../with_keywords.csv')"
      ]
    },
    {
      "cell_type": "code",
      "execution_count": 56,
      "metadata": {
        "colab": {
          "base_uri": "https://localhost:8080/",
          "height": 397
        },
        "id": "RoxFG_NBEW_2",
        "outputId": "67548e37-0827-410f-f383-4b293fbc9643"
      },
      "outputs": [
        {
          "data": {
            "text/html": [
              "<div>\n",
              "<style scoped>\n",
              "    .dataframe tbody tr th:only-of-type {\n",
              "        vertical-align: middle;\n",
              "    }\n",
              "\n",
              "    .dataframe tbody tr th {\n",
              "        vertical-align: top;\n",
              "    }\n",
              "\n",
              "    .dataframe thead th {\n",
              "        text-align: right;\n",
              "    }\n",
              "</style>\n",
              "<table border=\"1\" class=\"dataframe\">\n",
              "  <thead>\n",
              "    <tr style=\"text-align: right;\">\n",
              "      <th></th>\n",
              "      <th>overall</th>\n",
              "      <th>cleaned_review</th>\n",
              "      <th>cleaned_summary</th>\n",
              "    </tr>\n",
              "  </thead>\n",
              "  <tbody>\n",
              "    <tr>\n",
              "      <th>0</th>\n",
              "      <td>2</td>\n",
              "      <td>i have an older urcwr7 remote and thought this...</td>\n",
              "      <td>cannot learn</td>\n",
              "    </tr>\n",
              "    <tr>\n",
              "      <th>1</th>\n",
              "      <td>5</td>\n",
              "      <td>first time ive ever had a remote that needed n...</td>\n",
              "      <td>zero programming needed miracle</td>\n",
              "    </tr>\n",
              "    <tr>\n",
              "      <th>2</th>\n",
              "      <td>4</td>\n",
              "      <td>got them and only 2 of them worked company cal...</td>\n",
              "      <td>works good and programs easy</td>\n",
              "    </tr>\n",
              "    <tr>\n",
              "      <th>3</th>\n",
              "      <td>5</td>\n",
              "      <td>i got tired of the remote being on the wrong s...</td>\n",
              "      <td>same as twc remote</td>\n",
              "    </tr>\n",
              "    <tr>\n",
              "      <th>4</th>\n",
              "      <td>5</td>\n",
              "      <td>after purchasing cheap cords from another webs...</td>\n",
              "      <td>good quality cord</td>\n",
              "    </tr>\n",
              "  </tbody>\n",
              "</table>\n",
              "</div>"
            ],
            "text/plain": [
              "   overall                                     cleaned_review  \\\n",
              "0        2  i have an older urcwr7 remote and thought this...   \n",
              "1        5  first time ive ever had a remote that needed n...   \n",
              "2        4  got them and only 2 of them worked company cal...   \n",
              "3        5  i got tired of the remote being on the wrong s...   \n",
              "4        5  after purchasing cheap cords from another webs...   \n",
              "\n",
              "                   cleaned_summary  \n",
              "0                     cannot learn  \n",
              "1  zero programming needed miracle  \n",
              "2     works good and programs easy  \n",
              "3               same as twc remote  \n",
              "4                good quality cord  "
            ]
          },
          "execution_count": 56,
          "metadata": {},
          "output_type": "execute_result"
        }
      ],
      "source": [
        "data_no_keywords.head()"
      ]
    },
    {
      "cell_type": "code",
      "execution_count": 57,
      "metadata": {
        "colab": {
          "base_uri": "https://localhost:8080/",
          "height": 483
        },
        "id": "BBFuqdl8Et0W",
        "outputId": "6aec2396-e78b-45be-f1e0-f0727d753211"
      },
      "outputs": [
        {
          "data": {
            "text/html": [
              "<div>\n",
              "<style scoped>\n",
              "    .dataframe tbody tr th:only-of-type {\n",
              "        vertical-align: middle;\n",
              "    }\n",
              "\n",
              "    .dataframe tbody tr th {\n",
              "        vertical-align: top;\n",
              "    }\n",
              "\n",
              "    .dataframe thead th {\n",
              "        text-align: right;\n",
              "    }\n",
              "</style>\n",
              "<table border=\"1\" class=\"dataframe\">\n",
              "  <thead>\n",
              "    <tr style=\"text-align: right;\">\n",
              "      <th></th>\n",
              "      <th>overall</th>\n",
              "      <th>cleaned_review</th>\n",
              "      <th>cleaned_summary</th>\n",
              "    </tr>\n",
              "  </thead>\n",
              "  <tbody>\n",
              "    <tr>\n",
              "      <th>count</th>\n",
              "      <td>798346.000000</td>\n",
              "      <td>798346</td>\n",
              "      <td>798260</td>\n",
              "    </tr>\n",
              "    <tr>\n",
              "      <th>unique</th>\n",
              "      <td>NaN</td>\n",
              "      <td>776882</td>\n",
              "      <td>626854</td>\n",
              "    </tr>\n",
              "    <tr>\n",
              "      <th>top</th>\n",
              "      <td>NaN</td>\n",
              "      <td>great cable worked exactly as expected the con...</td>\n",
              "      <td>works great</td>\n",
              "    </tr>\n",
              "    <tr>\n",
              "      <th>freq</th>\n",
              "      <td>NaN</td>\n",
              "      <td>16</td>\n",
              "      <td>3008</td>\n",
              "    </tr>\n",
              "    <tr>\n",
              "      <th>mean</th>\n",
              "      <td>4.036890</td>\n",
              "      <td>NaN</td>\n",
              "      <td>NaN</td>\n",
              "    </tr>\n",
              "    <tr>\n",
              "      <th>std</th>\n",
              "      <td>1.330832</td>\n",
              "      <td>NaN</td>\n",
              "      <td>NaN</td>\n",
              "    </tr>\n",
              "    <tr>\n",
              "      <th>min</th>\n",
              "      <td>1.000000</td>\n",
              "      <td>NaN</td>\n",
              "      <td>NaN</td>\n",
              "    </tr>\n",
              "    <tr>\n",
              "      <th>25%</th>\n",
              "      <td>3.000000</td>\n",
              "      <td>NaN</td>\n",
              "      <td>NaN</td>\n",
              "    </tr>\n",
              "    <tr>\n",
              "      <th>50%</th>\n",
              "      <td>5.000000</td>\n",
              "      <td>NaN</td>\n",
              "      <td>NaN</td>\n",
              "    </tr>\n",
              "    <tr>\n",
              "      <th>75%</th>\n",
              "      <td>5.000000</td>\n",
              "      <td>NaN</td>\n",
              "      <td>NaN</td>\n",
              "    </tr>\n",
              "    <tr>\n",
              "      <th>max</th>\n",
              "      <td>5.000000</td>\n",
              "      <td>NaN</td>\n",
              "      <td>NaN</td>\n",
              "    </tr>\n",
              "  </tbody>\n",
              "</table>\n",
              "</div>"
            ],
            "text/plain": [
              "              overall                                     cleaned_review  \\\n",
              "count   798346.000000                                             798346   \n",
              "unique            NaN                                             776882   \n",
              "top               NaN  great cable worked exactly as expected the con...   \n",
              "freq              NaN                                                 16   \n",
              "mean         4.036890                                                NaN   \n",
              "std          1.330832                                                NaN   \n",
              "min          1.000000                                                NaN   \n",
              "25%          3.000000                                                NaN   \n",
              "50%          5.000000                                                NaN   \n",
              "75%          5.000000                                                NaN   \n",
              "max          5.000000                                                NaN   \n",
              "\n",
              "       cleaned_summary  \n",
              "count           798260  \n",
              "unique          626854  \n",
              "top        works great  \n",
              "freq              3008  \n",
              "mean               NaN  \n",
              "std                NaN  \n",
              "min                NaN  \n",
              "25%                NaN  \n",
              "50%                NaN  \n",
              "75%                NaN  \n",
              "max                NaN  "
            ]
          },
          "execution_count": 57,
          "metadata": {},
          "output_type": "execute_result"
        }
      ],
      "source": [
        "data_no_keywords.describe(include='all')"
      ]
    },
    {
      "cell_type": "code",
      "execution_count": 58,
      "metadata": {
        "colab": {
          "base_uri": "https://localhost:8080/"
        },
        "id": "aREMW5VzEvtP",
        "outputId": "2ef4c92d-0e48-4f6d-eebf-382adbdb1339"
      },
      "outputs": [
        {
          "name": "stdout",
          "output_type": "stream",
          "text": [
            "<class 'pandas.core.frame.DataFrame'>\n",
            "RangeIndex: 798346 entries, 0 to 798345\n",
            "Data columns (total 3 columns):\n",
            " #   Column           Non-Null Count   Dtype \n",
            "---  ------           --------------   ----- \n",
            " 0   overall          798346 non-null  int64 \n",
            " 1   cleaned_review   798346 non-null  object\n",
            " 2   cleaned_summary  798260 non-null  object\n",
            "dtypes: int64(1), object(2)\n",
            "memory usage: 18.3+ MB\n"
          ]
        }
      ],
      "source": [
        "data_no_keywords.info()"
      ]
    },
    {
      "cell_type": "markdown",
      "metadata": {},
      "source": [
        "## Vectorization Process"
      ]
    },
    {
      "cell_type": "markdown",
      "metadata": {},
      "source": [
        "### train model"
      ]
    },
    {
      "cell_type": "code",
      "execution_count": 59,
      "metadata": {
        "colab": {
          "base_uri": "https://localhost:8080/"
        },
        "id": "9JhuMbZjFCWs",
        "outputId": "0d8906da-6146-4316-884d-cd95f30cbc17"
      },
      "outputs": [],
      "source": [
        "model = SentenceTransformer('all-MiniLM-L6-v2')"
      ]
    },
    {
      "cell_type": "code",
      "execution_count": 60,
      "metadata": {
        "id": "A8eS0BA5FyYa"
      },
      "outputs": [],
      "source": [
        "# define some warranty and guarantee sentences\n",
        "warranty_prompts = [\n",
        "    \"This review talks about the product's warranty.\",\n",
        "    \"The customer is describing their experience with the product warranty.\",\n",
        "    \"The review includes information about product replacement under warranty.\",\n",
        "    \"The product is covered under warranty for one year.\",\n",
        "    \"This review involves the warranty or return policy of the product.\",\n",
        "    \"Customer feedback about warranty claims or issues.\",\n",
        "    \"The customer discusses how they were able to return or exchange the product under warranty.\",\n",
        "    \"The review mentions the product warranty and return process.\",\n",
        "    \"The product warranty was helpful for product replacement.\",\n",
        "    \"Customer shares their experience with product warranty and support.\"\n",
        "]"
      ]
    },
    {
      "cell_type": "code",
      "execution_count": 61,
      "metadata": {
        "id": "miENC117Ftsc"
      },
      "outputs": [],
      "source": [
        "# Encode sentences into vectors using embedding model\n",
        "prompt_embeddings = model.encode(warranty_prompts, convert_to_tensor=True)"
      ]
    },
    {
      "cell_type": "code",
      "execution_count": 62,
      "metadata": {},
      "outputs": [],
      "source": [
        "# Compute similarity between text embeddings\n",
        "def calculate_similarity(summary):\n",
        "    summary_embedding = model.encode(summary, convert_to_tensor=True)\n",
        "    similarities = util.cos_sim(summary_embedding, prompt_embeddings)\n",
        "    return similarities.max().item()"
      ]
    },
    {
      "cell_type": "code",
      "execution_count": 65,
      "metadata": {},
      "outputs": [],
      "source": [
        "# find most repeated reviews\n",
        "data_no_keywords['summary_count'] = data_no_keywords.groupby('cleaned_summary')['cleaned_summary'].transform('count')"
      ]
    },
    {
      "cell_type": "code",
      "execution_count": 72,
      "metadata": {},
      "outputs": [],
      "source": [
        "most_summaries = data_no_keywords[data_no_keywords['summary_count']>10]"
      ]
    },
    {
      "cell_type": "code",
      "execution_count": 73,
      "metadata": {},
      "outputs": [
        {
          "name": "stdout",
          "output_type": "stream",
          "text": [
            "<class 'pandas.core.frame.DataFrame'>\n",
            "Index: 112224 entries, 11 to 798345\n",
            "Data columns (total 4 columns):\n",
            " #   Column           Non-Null Count   Dtype  \n",
            "---  ------           --------------   -----  \n",
            " 0   overall          112224 non-null  int64  \n",
            " 1   cleaned_review   112224 non-null  object \n",
            " 2   cleaned_summary  112224 non-null  object \n",
            " 3   summary_count    112224 non-null  float64\n",
            "dtypes: float64(1), int64(1), object(2)\n",
            "memory usage: 4.3+ MB\n"
          ]
        }
      ],
      "source": [
        "most_summaries.info()"
      ]
    },
    {
      "cell_type": "markdown",
      "metadata": {},
      "source": [
        "## Similarity Calculation"
      ]
    },
    {
      "cell_type": "code",
      "execution_count": 75,
      "metadata": {},
      "outputs": [
        {
          "name": "stderr",
          "output_type": "stream",
          "text": [
            "C:\\Users\\DATIS STAR\\AppData\\Local\\Temp\\ipykernel_8040\\4212635800.py:1: SettingWithCopyWarning: \n",
            "A value is trying to be set on a copy of a slice from a DataFrame.\n",
            "Try using .loc[row_indexer,col_indexer] = value instead\n",
            "\n",
            "See the caveats in the documentation: https://pandas.pydata.org/pandas-docs/stable/user_guide/indexing.html#returning-a-view-versus-a-copy\n",
            "  most_summaries['similarity_score'] = most_summaries['cleaned_summary'].apply(calculate_similarity)\n"
          ]
        }
      ],
      "source": [
        "most_summaries['similarity_score'] = most_summaries['cleaned_summary'].apply(calculate_similarity)"
      ]
    },
    {
      "cell_type": "code",
      "execution_count": 95,
      "metadata": {},
      "outputs": [],
      "source": [
        "# find most similar reviews acording similarity score greater than 0.4 threshold\n",
        "filtered = most_summaries[most_summaries['similarity_score'] > 0.4]"
      ]
    },
    {
      "cell_type": "code",
      "execution_count": 96,
      "metadata": {},
      "outputs": [
        {
          "name": "stdout",
          "output_type": "stream",
          "text": [
            "<class 'pandas.core.frame.DataFrame'>\n",
            "Index: 1488 entries, 2129 to 798282\n",
            "Data columns (total 5 columns):\n",
            " #   Column            Non-Null Count  Dtype  \n",
            "---  ------            --------------  -----  \n",
            " 0   overall           1488 non-null   int64  \n",
            " 1   cleaned_review    1488 non-null   object \n",
            " 2   cleaned_summary   1488 non-null   object \n",
            " 3   summary_count     1488 non-null   float64\n",
            " 4   similarity_score  1488 non-null   float64\n",
            "dtypes: float64(2), int64(1), object(2)\n",
            "memory usage: 69.8+ KB\n"
          ]
        }
      ],
      "source": [
        "filtered.info()"
      ]
    },
    {
      "cell_type": "code",
      "execution_count": 101,
      "metadata": {},
      "outputs": [],
      "source": [
        "# concat with_keywords dataset and similar reviews dataset\n",
        "result = pd.concat([data_with_keywords, filtered])"
      ]
    },
    {
      "cell_type": "code",
      "execution_count": 102,
      "metadata": {},
      "outputs": [
        {
          "name": "stdout",
          "output_type": "stream",
          "text": [
            "<class 'pandas.core.frame.DataFrame'>\n",
            "Index: 25634 entries, 0 to 798282\n",
            "Data columns (total 5 columns):\n",
            " #   Column            Non-Null Count  Dtype  \n",
            "---  ------            --------------  -----  \n",
            " 0   overall           25634 non-null  int64  \n",
            " 1   cleaned_review    25634 non-null  object \n",
            " 2   cleaned_summary   25631 non-null  object \n",
            " 3   summary_count     1488 non-null   float64\n",
            " 4   similarity_score  1488 non-null   float64\n",
            "dtypes: float64(2), int64(1), object(2)\n",
            "memory usage: 1.2+ MB\n"
          ]
        }
      ],
      "source": [
        "result.info()"
      ]
    },
    {
      "cell_type": "code",
      "execution_count": 103,
      "metadata": {},
      "outputs": [
        {
          "data": {
            "text/plain": [
              "3.476125458375595"
            ]
          },
          "execution_count": 103,
          "metadata": {},
          "output_type": "execute_result"
        }
      ],
      "source": [
        "# average of overal scores\n",
        "average = result['overall'].mean()\n",
        "average"
      ]
    },
    {
      "cell_type": "code",
      "execution_count": 104,
      "metadata": {},
      "outputs": [
        {
          "data": {
            "image/png": "[encoded data removed]",
            "text/plain": [
              "<Figure size 640x480 with 1 Axes>"
            ]
          },
          "metadata": {},
          "output_type": "display_data"
        }
      ],
      "source": [
        "# plot overal range\n",
        "plt.hist(result['overall'], bins=5, edgecolor='black')\n",
        "plt.title(\"Distribution of Ratings for Products with Guarantee or Warranty\")\n",
        "plt.xlabel(\"Rating\")\n",
        "plt.ylabel(\"Number of Reviews\")\n",
        "plt.grid(True)\n",
        "plt.show()"
      ]
    }
  ],
  "metadata": {
    "colab": {
      "provenance": []
    },
    "kernelspec": {
      "display_name": "Python 3.11.3 ('venv': venv)",
      "language": "python",
      "name": "python3"
    },
    "language_info": {
      "codemirror_mode": {
        "name": "ipython",
        "version": 3
      },
      "file_extension": ".py",
      "mimetype": "text/x-python",
      "name": "python",
      "nbconvert_exporter": "python",
      "pygments_lexer": "ipython3",
      "version": "3.11.3"
    },
    "vscode": {
      "interpreter": {
        "hash": "2127e7ed953e72fcd0c52b61544715f1cb994261dad5c6758c387808da5f4c89"
      }
    }
  },
  "nbformat": 4,
  "nbformat_minor": 0
}
